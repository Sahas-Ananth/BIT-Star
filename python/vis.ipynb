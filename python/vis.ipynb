{
 "cells": [
  {
   "cell_type": "code",
   "execution_count": 1,
   "metadata": {},
   "outputs": [],
   "source": [
    "import numpy as np\n",
    "import cv2\n",
    "import json\n",
    "import os\n",
    "import matplotlib.pyplot as plt\n",
    "%matplotlib inline"
   ]
  },
  {
   "cell_type": "code",
   "execution_count": 2,
   "metadata": {},
   "outputs": [],
   "source": [
    "def get_data_from_json(folder):\n",
    "    all_edges, all_cis, all_paths = [], [], []\n",
    "    fold_path = f\"{os.path.abspath('')}/../Output/PyViz/{folder}/\"\n",
    "\n",
    "    files = sorted(os.listdir(fold_path))\n",
    "    for i in range(len(files) - 1):\n",
    "        edges, cis, paths = [], [], []\n",
    "        with open(fold_path + files[i], \"r\") as f:\n",
    "            data = json.load(f)\n",
    "            for edge in data[\"edges\"]:\n",
    "                if len(edge) == 0:\n",
    "                    continue\n",
    "                for j in range(len(edge)):\n",
    "                    edges.append((edge[j][0], edge[j][1]))\n",
    "\n",
    "            cis.append(data[\"ci\"])\n",
    "\n",
    "            for path in data[\"final_path\"]:\n",
    "                if path is None:\n",
    "                    continue\n",
    "                for j in range(len(path)):\n",
    "                    paths.append(tuple(path[j]))\n",
    "\n",
    "        all_edges.append(np.array(edges))\n",
    "        all_cis.append(np.array(cis).squeeze())\n",
    "        all_paths.append(np.array(paths))\n",
    "\n",
    "    return all_edges, all_cis, all_paths\n"
   ]
  },
  {
   "cell_type": "code",
   "execution_count": 3,
   "metadata": {},
   "outputs": [],
   "source": [
    "experiment = \"2023-04-10 23:42:24.065425\"\n",
    "e, c, p = get_data_from_json(experiment)\n",
    "unique_edges = []\n",
    "unique_cis = []\n",
    "unique_paths = []\n",
    "for i in range(len(c)):\n",
    "    unique_edges.append(np.unique(e[i], axis=0))\n",
    "    unique_cis.append(np.unique(c[i]))\n",
    "    unique_paths.append(np.unique(p[i], axis=0))\n"
   ]
  },
  {
   "cell_type": "code",
   "execution_count": 10,
   "metadata": {},
   "outputs": [
    {
     "ename": "",
     "evalue": "",
     "output_type": "error",
     "traceback": [
      "\u001b[1;31mCanceled future for execute_request message before replies were done"
     ]
    },
    {
     "ename": "",
     "evalue": "",
     "output_type": "error",
     "traceback": [
      "\u001b[1;31mThe Kernel crashed while executing code in the the current cell or a previous cell. Please review the code in the cell(s) to identify a possible cause of the failure. Click <a href='https://aka.ms/vscodeJupyterKernelCrash'>here</a> for more info. View Jupyter <a href='command:jupyter.viewOutput'>log</a> for further details."
     ]
    }
   ],
   "source": [
    "image = cv2.imread(f\"{os.path.abspath('')}/../gridmaps/occupancy_map.png\")\n",
    "copy_image = image.copy()\n",
    "\n",
    "start = (140, 635)\n",
    "goal = (400, 350)\n",
    "\n",
    "\n",
    "for it in range(len(e)):\n",
    "    plt.figure(figsize=(20, 20))\n",
    "    plt.imshow(cv2.cvtColor(copy_image, cv2.COLOR_BGR2RGB))\n",
    "    plt.title(f\"Iteration {it}\", fontsize=20)\n",
    "    ei = 0\n",
    "    lei = len(e[it])\n",
    "    \n",
    "    # split the edges[it] into x and y coordinates\n",
    "    x1 = e[it][:, 0, 0]\n",
    "    y1 = e[it][:, 0, 1]\n",
    "    x2 = e[it][:, 1, 0]\n",
    "    y2 = e[it][:, 1, 1]\n",
    "    plt.plot(\n",
    "            [y1, y2],\n",
    "            [x1, x2],\n",
    "            color=\"red\",\n",
    "            linewidth=1,\n",
    "            marker=\"x\",\n",
    "            markersize=4,\n",
    "            markerfacecolor=\"blue\",\n",
    "            markeredgecolor=\"blue\",\n",
    "        )\n",
    "    plt.plot(start[0], start[1], color=\"green\", marker=\"o\", markersize=10)\n",
    "    plt.plot(goal[0], goal[1], color=\"orange\", marker=\"o\", markersize=10)\n",
    "    os.makedirs(f\"../Output/PyViz/Images/{experiment}/\", exist_ok=True)\n",
    "    plt.savefig(f\"../Output/PyViz/Images/{experiment}/iter_{it}.png\", bbox_inches='tight', pad_inches=0.4)"
   ]
  },
  {
   "cell_type": "code",
   "execution_count": null,
   "metadata": {},
   "outputs": [],
   "source": []
  }
 ],
 "metadata": {
  "kernelspec": {
   "display_name": "Python 3",
   "language": "python",
   "name": "python3"
  },
  "language_info": {
   "codemirror_mode": {
    "name": "ipython",
    "version": 3
   },
   "file_extension": ".py",
   "mimetype": "text/x-python",
   "name": "python",
   "nbconvert_exporter": "python",
   "pygments_lexer": "ipython3",
   "version": "3.8.10"
  },
  "orig_nbformat": 4
 },
 "nbformat": 4,
 "nbformat_minor": 2
}
